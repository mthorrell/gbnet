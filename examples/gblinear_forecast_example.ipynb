{
 "cells": [
  {
   "cell_type": "code",
   "execution_count": null,
   "id": "242bd8c2-265b-4e41-b027-6b86ed0c3243",
   "metadata": {
    "scrolled": true
   },
   "outputs": [],
   "source": [
    "import lightgbm as lgb\n",
    "from matplotlib import pyplot as plt\n",
    "import numpy as np\n",
    "import pandas as pd\n",
    "from prophet import Prophet\n",
    "from sklearn.metrics import root_mean_squared_error\n",
    "\n",
    "from gbnet.models.forecasting import Forecast\n",
    "\n",
    "\n",
    "urls = [\n",
    "    \"https://raw.githubusercontent.com/facebook/prophet/main/examples/example_air_passengers.csv\",\n",
    "    \"https://raw.githubusercontent.com/facebook/prophet/main/examples/example_pedestrians_covid.csv\",\n",
    "    \"https://raw.githubusercontent.com/facebook/prophet/main/examples/example_pedestrians_multivariate.csv\",\n",
    "    \"https://raw.githubusercontent.com/facebook/prophet/main/examples/example_retail_sales.csv\",\n",
    "    \"https://raw.githubusercontent.com/facebook/prophet/main/examples/example_wp_log_R.csv\",\n",
    "    \"https://raw.githubusercontent.com/facebook/prophet/main/examples/example_wp_log_R_outliers1.csv\",\n",
    "    \"https://raw.githubusercontent.com/facebook/prophet/main/examples/example_wp_log_R_outliers2.csv\",\n",
    "    \"https://raw.githubusercontent.com/facebook/prophet/main/examples/example_wp_log_peyton_manning.csv\",\n",
    "    \"https://raw.githubusercontent.com/facebook/prophet/main/examples/example_yosemite_temps.csv\",\n",
    "]\n",
    "\n",
    "datasets = pd.DataFrame([\n",
    "    {\n",
    "        'name': url.split('/')[-1],\n",
    "        'data': pd.read_csv(url),\n",
    "        'url': url,\n",
    "        'ycol': (\n",
    "            'y' if not (url.split('/')[-1] == 'example_pedestrians_multivariate.csv')\n",
    "            else 'location_4'\n",
    "        )\n",
    "    }\n",
    "    for url in urls\n",
    "])\n",
    "\n",
    "n_trials = 500\n",
    "results = []\n",
    "for _ in range(n_trials):\n",
    "\n",
    "    seed = 1110011 + _\n",
    "    dataset = datasets.sample(1, random_state=seed)\n",
    "\n",
    "    df = dataset['data'].iloc[0].copy()\n",
    "    df['ds'] = pd.to_datetime(df['ds'])\n",
    "    df['y'] = df[dataset['ycol']].copy()\n",
    "\n",
    "    np.random.seed(seed)\n",
    "    train_q = np.random.random()\n",
    "    test_q = np.random.random()\n",
    "    train_cutoff = df['ds'].quantile(train_q)\n",
    "    test_cutoff = df[df['ds'] > train_cutoff]['ds'].quantile(test_q)\n",
    "\n",
    "    train = df[(df['ds'] <= train_cutoff) & (df['y'].notnull())].reset_index(drop=True).copy()\n",
    "    test = df[(df['ds'] > train_cutoff) & (df['ds'] <= test_cutoff) & (df['y'].notnull())].reset_index(drop=True).copy()\n",
    "\n",
    "    #####        \n",
    "    m = Forecast()\n",
    "    m.fit(train, train['y'])\n",
    "    test['gblinear_pred'] = m.predict(test)['yhat']\n",
    "\n",
    "    #####\n",
    "    try:\n",
    "        m = Forecast(\n",
    "            module_type='LGBModule', params={\n",
    "                'min_sum_hessian_in_leaf':0,\n",
    "                'min_data_in_leaf':0\n",
    "            },\n",
    "            nrounds=50,\n",
    "            linear_params={'min_hess': 0.001, 'lambd': 0.001, 'lr': 0.9}\n",
    "        )\n",
    "        m.fit(train, train['y'])\n",
    "        test['gblinear_lightgbm_pred'] = m.predict(test)['yhat']\n",
    "    except lgb.basic.LightGBMError:\n",
    "        test['gblinear_lightgbm_pred'] = 0\n",
    "    \n",
    "\n",
    "    #####\n",
    "    pm = Prophet()\n",
    "    pm.fit(train)\n",
    "    test['prophet_pred'] = pm.predict(test)['yhat']\n",
    "\n",
    "    sel = test['y'].notnull()\n",
    "    results.append({\n",
    "        'name': dataset['name'].iloc[0],\n",
    "        'train_q': train_q,\n",
    "        'test_q': test_q,\n",
    "        'rmse_gblinear_xgb': root_mean_squared_error(test[sel]['y'], test[sel]['gblinear_pred']),\n",
    "        'rmse_gblinear_lgb': root_mean_squared_error(test[sel]['y'], test[sel]['gblinear_lightgbm_pred']),\n",
    "        'rmse_prophet': root_mean_squared_error(test[sel]['y'], test[sel]['prophet_pred'])\n",
    "    })\n",
    "    print(results[-1])\n",
    "        \n"
   ]
  },
  {
   "cell_type": "code",
   "execution_count": 2,
   "id": "e0291a1f-3934-400a-9168-3c5d3d9f382e",
   "metadata": {},
   "outputs": [],
   "source": [
    "rrr = pd.DataFrame(results)"
   ]
  },
  {
   "cell_type": "code",
   "execution_count": 3,
   "id": "349fe08f-582b-408f-b40f-3233f4b07479",
   "metadata": {},
   "outputs": [],
   "source": [
    "rrr = pd.DataFrame(results).rename(columns={\n",
    "    'rmse_gbnet': 'rmse_ptlinear_xgb',\n",
    "    'rmse_gbnet_lightgbm': 'rmse_ptlinear_lgb',\n",
    "    'rmse_gblinear': 'rmse_gblinear_xgb',\n",
    "    'rmse_gblinear_lightgbm': 'rmse_gblinear_lgb'\n",
    "})"
   ]
  },
  {
   "cell_type": "code",
   "execution_count": 4,
   "id": "f672cd77-cc50-403f-956b-77ebcac031d2",
   "metadata": {},
   "outputs": [
    {
     "data": {
      "text/plain": [
       "gblinear_lgb    248\n",
       "gblinear_xgb    160\n",
       "prophet          92\n",
       "Name: count, dtype: int64"
      ]
     },
     "execution_count": 4,
     "metadata": {},
     "output_type": "execute_result"
    }
   ],
   "source": [
    "mp = {\n",
    "    0: 'gblinear_xgb',\n",
    "    1: 'gblinear_lgb',\n",
    "    2: 'prophet'\n",
    "}\n",
    "\n",
    "cols = ['rmse_gblinear_xgb', 'rmse_gblinear_lgb', 'rmse_prophet']\n",
    "\n",
    "pd.Series(np.argmin(rrr[cols], 1)).map(mp).value_counts()"
   ]
  },
  {
   "cell_type": "code",
   "execution_count": 5,
   "id": "ad2ce59b-2d23-499d-84b1-068318b496ad",
   "metadata": {},
   "outputs": [],
   "source": [
    "import numpy as np\n",
    "def calculate_pairwise_win_rates(df, mae_columns):\n",
    "    \"\"\"\n",
    "    Calculate pairwise win rates between MAE columns where lower values are better.\n",
    "    \n",
    "    Parameters:\n",
    "    df (pandas.DataFrame): DataFrame containing MAE columns\n",
    "    mae_columns (list): List of column names containing MAE values\n",
    "    \n",
    "    Returns:\n",
    "    pandas.DataFrame: Matrix of win rates where entry [i,j] represents how often model i beats model j\n",
    "    \"\"\"\n",
    "    n_models = len(mae_columns)\n",
    "    win_rates = np.zeros((n_models, n_models))\n",
    "    \n",
    "    for i, model1 in enumerate(mae_columns):\n",
    "        for j, model2 in enumerate(mae_columns):\n",
    "            if i != j:\n",
    "                # Count how often model1 has lower MAE than model2\n",
    "                wins = (df[model1] < df[model2]).sum()\n",
    "                total_comparisons = len(df)\n",
    "                win_rates[i,j] = wins / total_comparisons\n",
    "    \n",
    "    # Create DataFrame with nice labels\n",
    "    result = pd.DataFrame(\n",
    "        win_rates,\n",
    "        columns=[col.replace('test_mae_', '') for col in mae_columns],\n",
    "        index=[col.replace('test_mae_', '') for col in mae_columns]\n",
    "    )\n",
    "    \n",
    "    return result"
   ]
  },
  {
   "cell_type": "code",
   "execution_count": 6,
   "id": "e877d899-5a53-4a1c-b03c-9fbcd7a7eb9c",
   "metadata": {},
   "outputs": [
    {
     "data": {
      "text/html": [
       "<div>\n",
       "<style scoped>\n",
       "    .dataframe tbody tr th:only-of-type {\n",
       "        vertical-align: middle;\n",
       "    }\n",
       "\n",
       "    .dataframe tbody tr th {\n",
       "        vertical-align: top;\n",
       "    }\n",
       "\n",
       "    .dataframe thead th {\n",
       "        text-align: right;\n",
       "    }\n",
       "</style>\n",
       "<table border=\"1\" class=\"dataframe\">\n",
       "  <thead>\n",
       "    <tr style=\"text-align: right;\">\n",
       "      <th></th>\n",
       "      <th>rmse_gblinear_xgb</th>\n",
       "      <th>rmse_gblinear_lgb</th>\n",
       "      <th>rmse_prophet</th>\n",
       "    </tr>\n",
       "  </thead>\n",
       "  <tbody>\n",
       "    <tr>\n",
       "      <th>rmse_gblinear_xgb</th>\n",
       "      <td>0.000</td>\n",
       "      <td>0.428</td>\n",
       "      <td>0.794</td>\n",
       "    </tr>\n",
       "    <tr>\n",
       "      <th>rmse_gblinear_lgb</th>\n",
       "      <td>0.572</td>\n",
       "      <td>0.000</td>\n",
       "      <td>0.788</td>\n",
       "    </tr>\n",
       "    <tr>\n",
       "      <th>rmse_prophet</th>\n",
       "      <td>0.206</td>\n",
       "      <td>0.212</td>\n",
       "      <td>0.000</td>\n",
       "    </tr>\n",
       "  </tbody>\n",
       "</table>\n",
       "</div>"
      ],
      "text/plain": [
       "                   rmse_gblinear_xgb  rmse_gblinear_lgb  rmse_prophet\n",
       "rmse_gblinear_xgb              0.000              0.428         0.794\n",
       "rmse_gblinear_lgb              0.572              0.000         0.788\n",
       "rmse_prophet                   0.206              0.212         0.000"
      ]
     },
     "execution_count": 6,
     "metadata": {},
     "output_type": "execute_result"
    }
   ],
   "source": [
    "calculate_pairwise_win_rates(rrr, cols)"
   ]
  },
  {
   "cell_type": "code",
   "execution_count": 7,
   "id": "4ac1c486-4a28-4ec7-9e1c-adfbecfbe6bc",
   "metadata": {},
   "outputs": [
    {
     "data": {
      "text/plain": [
       "name\n",
       "example_air_passengers.csv              0.740000\n",
       "example_pedestrians_covid.csv           0.785714\n",
       "example_pedestrians_multivariate.csv    0.666667\n",
       "example_retail_sales.csv                0.853333\n",
       "example_wp_log_R.csv                    0.898305\n",
       "example_wp_log_R_outliers1.csv          0.833333\n",
       "example_wp_log_R_outliers2.csv          0.775510\n",
       "example_wp_log_peyton_manning.csv       0.622222\n",
       "example_yosemite_temps.csv              0.846154\n",
       "Name: gblinear_lgb_win_rate, dtype: float64"
      ]
     },
     "execution_count": 7,
     "metadata": {},
     "output_type": "execute_result"
    }
   ],
   "source": [
    "rrr['gblinear_lgb_win_rate'] = rrr['rmse_gblinear_lgb'] < rrr['rmse_prophet']\n",
    "rrr.groupby('name')['gblinear_lgb_win_rate'].mean()"
   ]
  },
  {
   "cell_type": "code",
   "execution_count": 8,
   "id": "76b3f75f-12b0-485b-83fd-c4375779b4e1",
   "metadata": {},
   "outputs": [
    {
     "data": {
      "text/plain": [
       "name\n",
       "example_air_passengers.csv              0.780000\n",
       "example_pedestrians_covid.csv           0.767857\n",
       "example_pedestrians_multivariate.csv    0.703704\n",
       "example_retail_sales.csv                0.853333\n",
       "example_wp_log_R.csv                    0.915254\n",
       "example_wp_log_R_outliers1.csv          0.816667\n",
       "example_wp_log_R_outliers2.csv          0.775510\n",
       "example_wp_log_peyton_manning.csv       0.622222\n",
       "example_yosemite_temps.csv              0.846154\n",
       "Name: gblinear_xgb_win_rate, dtype: float64"
      ]
     },
     "execution_count": 8,
     "metadata": {},
     "output_type": "execute_result"
    }
   ],
   "source": [
    "rrr['gblinear_xgb_win_rate'] = rrr['rmse_gblinear_xgb'] < rrr['rmse_prophet']\n",
    "rrr.groupby('name')['gblinear_xgb_win_rate'].mean()"
   ]
  },
  {
   "cell_type": "code",
   "execution_count": null,
   "id": "fbdb1bb5-8ef5-4e9c-8c44-dbf677e81eda",
   "metadata": {},
   "outputs": [],
   "source": []
  },
  {
   "cell_type": "code",
   "execution_count": 9,
   "id": "2b5f3846-c3af-4681-8f64-cd5c14d2a5d8",
   "metadata": {},
   "outputs": [
    {
     "data": {
      "text/plain": [
       "Text(0.5, 1.0, 'When method loses how bad does it lose?')"
      ]
     },
     "execution_count": 9,
     "metadata": {},
     "output_type": "execute_result"
    },
    {
     "data": {
      "image/png": "[encoded data removed]",
      "text/plain": [
       "<Figure size 640x480 with 1 Axes>"
      ]
     },
     "metadata": {},
     "output_type": "display_data"
    }
   ],
   "source": [
    "pd.options.display.max_rows=1000\n",
    "\n",
    "rrr['min'] = rrr[cols].min(1)\n",
    "\n",
    "def get_ratios(col):\n",
    "    col_ratio = rrr[col] / rrr['min']\n",
    "\n",
    "    xgrid = np.linspace(1,6, 100)\n",
    "    \n",
    "    res = []\n",
    "    for x in xgrid:\n",
    "        res.append({\n",
    "            'x': x,\n",
    "            'p': (col_ratio[rrr[col] > rrr['min']] > x).mean()\n",
    "        })\n",
    "    res = pd.DataFrame(res)\n",
    "    return res\n",
    "\n",
    "\n",
    "\n",
    "res = get_ratios('rmse_gblinear_lgb')\n",
    "plt.plot(res['x'], res['p'], label='gblinear_lgb')\n",
    "\n",
    "res = get_ratios('rmse_gblinear_xgb')\n",
    "plt.plot(res['x'], res['p'], label='gblinear_xgb')\n",
    "\n",
    "res = get_ratios('rmse_prophet')\n",
    "plt.plot(res['x'], res['p'], label='prophet')\n",
    "\n",
    "#plt.xscale('log')\n",
    "#plt.yscale('log')\n",
    "plt.legend()\n",
    "plt.xlabel('RMSE / Best RMSE when given method is not best')\n",
    "plt.ylabel('Fraction of trials')\n",
    "plt.title('When method loses how bad does it lose?')"
   ]
  }
 ],
 "metadata": {
  "kernelspec": {
   "display_name": "Python 3 (ipykernel)",
   "language": "python",
   "name": "python3"
  },
  "language_info": {
   "codemirror_mode": {
    "name": "ipython",
    "version": 3
   },
   "file_extension": ".py",
   "mimetype": "text/x-python",
   "name": "python",
   "nbconvert_exporter": "python",
   "pygments_lexer": "ipython3",
   "version": "3.12.2"
  }
 },
 "nbformat": 4,
 "nbformat_minor": 5
}
