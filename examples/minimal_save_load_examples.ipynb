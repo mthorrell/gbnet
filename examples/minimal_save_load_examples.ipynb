{
 "cells": [
  {
   "cell_type": "code",
   "execution_count": 2,
   "id": "6b1beeca-5993-4af4-b9cd-1af51d8308a9",
   "metadata": {},
   "outputs": [
    {
     "name": "stdout",
     "output_type": "stream",
     "text": [
      "Outputs identical: True\n"
     ]
    }
   ],
   "source": [
    "import torch\n",
    "import numpy as np\n",
    "from gbnet.xgbmodule import XGBModule\n",
    "\n",
    "# Minimal data\n",
    "batch_size = 10\n",
    "input_dim = 3\n",
    "output_dim = 1\n",
    "np.random.seed(10110)\n",
    "X = np.random.randn(batch_size, input_dim)\n",
    "Y = np.random.random([batch_size, output_dim])\n",
    "\n",
    "# Create and run XGBModule\n",
    "model = XGBModule(batch_size, input_dim, output_dim)\n",
    "MSE = torch.nn.MSELoss()\n",
    "model.train()\n",
    "loss = MSE(model(X), torch.Tensor(Y))\n",
    "loss.backward(create_graph=True)\n",
    "model.gb_step()\n",
    "output_before = model(X).detach().numpy()\n",
    "\n",
    "# Save\n",
    "torch.save(model.state_dict(), 'minimal_xgbmodule.pth')\n",
    "\n",
    "# Load into a new model\n",
    "model2 = XGBModule(batch_size, input_dim, output_dim)\n",
    "model2.load_state_dict(torch.load('minimal_xgbmodule.pth', weights_only=True))\n",
    "model2.eval()\n",
    "output_after = model2(X).detach().numpy()\n",
    "\n",
    "# Check equivalence\n",
    "print('Outputs identical:', np.allclose(output_before, output_after)) "
   ]
  },
  {
   "cell_type": "code",
   "execution_count": 3,
   "id": "cd63f364-5f79-44d1-8e06-4354c78bf8b4",
   "metadata": {},
   "outputs": [
    {
     "name": "stdout",
     "output_type": "stream",
     "text": [
      "Outputs identical: True\n"
     ]
    }
   ],
   "source": [
    "import torch\n",
    "import numpy as np\n",
    "from gbnet.lgbmodule import LGBModule\n",
    "\n",
    "# Minimal data\n",
    "batch_size = 100\n",
    "input_dim = 3\n",
    "output_dim = 1\n",
    "X = np.random.randn(batch_size, input_dim)\n",
    "Y = np.random.random([batch_size, output_dim])\n",
    "\n",
    "# Create and run LGBModule\n",
    "model = LGBModule(batch_size, input_dim, output_dim)\n",
    "MSE = torch.nn.MSELoss()\n",
    "model.train()\n",
    "loss = MSE(model(X), torch.Tensor(Y))\n",
    "loss.backward(create_graph=True)\n",
    "model.gb_step()\n",
    "output_before = model(X).detach().numpy()\n",
    "\n",
    "# Save\n",
    "torch.save(model.state_dict(), 'minimal_lgbmodule.pth')\n",
    "\n",
    "# Load into a new model\n",
    "model2 = LGBModule(batch_size, input_dim, output_dim)\n",
    "model2.load_state_dict(torch.load('minimal_lgbmodule.pth', weights_only=True))\n",
    "model2.eval()\n",
    "output_after = model2(X).detach().numpy()\n",
    "\n",
    "# Check equivalence\n",
    "print('Outputs identical:', np.allclose(output_before, output_after)) "
   ]
  },
  {
   "cell_type": "code",
   "execution_count": 4,
   "id": "dc882c9b-09b0-42e5-b535-1d195582bec5",
   "metadata": {},
   "outputs": [
    {
     "name": "stdout",
     "output_type": "stream",
     "text": [
      "Outputs identical: True\n"
     ]
    }
   ],
   "source": [
    "import torch\n",
    "import numpy as np\n",
    "from gbnet.gblinear import GBLinear\n",
    "\n",
    "# Minimal data\n",
    "batch_size = 10\n",
    "input_dim = 3\n",
    "output_dim = 1\n",
    "X = np.random.randn(batch_size, input_dim)\n",
    "Y = np.random.random([batch_size, output_dim])\n",
    "\n",
    "# Create and run GBLinear\n",
    "model = GBLinear(input_dim, output_dim)\n",
    "MSE = torch.nn.MSELoss()\n",
    "model.train()\n",
    "loss = MSE(model(X), torch.Tensor(Y))\n",
    "loss.backward(create_graph=True)\n",
    "model.gb_step()\n",
    "output_before = model(X).detach().numpy()\n",
    "\n",
    "# Save\n",
    "torch.save(model.state_dict(), 'minimal_gblinear.pth')\n",
    "\n",
    "# Load into a new model\n",
    "model2 = GBLinear(input_dim, output_dim)\n",
    "model2.load_state_dict(torch.load('minimal_gblinear.pth', weights_only=True))\n",
    "model2.train()\n",
    "output_after = model2(X).detach().numpy()\n",
    "\n",
    "# Check equivalence\n",
    "print('Outputs identical:', np.allclose(output_before, output_after)) "
   ]
  },
  {
   "cell_type": "code",
   "execution_count": null,
   "id": "0bbffa82-c5bd-42e4-a84b-2834beb765e9",
   "metadata": {},
   "outputs": [],
   "source": []
  }
 ],
 "metadata": {
  "kernelspec": {
   "display_name": "Python 3 (ipykernel)",
   "language": "python",
   "name": "python3"
  },
  "language_info": {
   "codemirror_mode": {
    "name": "ipython",
    "version": 3
   },
   "file_extension": ".py",
   "mimetype": "text/x-python",
   "name": "python",
   "nbconvert_exporter": "python",
   "pygments_lexer": "ipython3",
   "version": "3.12.2"
  }
 },
 "nbformat": 4,
 "nbformat_minor": 5
}
